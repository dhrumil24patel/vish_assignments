{
 "cells": [
  {
   "cell_type": "code",
   "execution_count": 1,
   "metadata": {
    "collapsed": true
   },
   "outputs": [],
   "source": [
    "# improt dependencies\n",
    "import pandas as pd\n",
    "import numpy as np\n",
    "from sklearn import linear_model\n",
    "from sklearn.model_selection import train_test_split\n",
    "from sklearn.metrics import r2_score\n",
    "from sklearn.linear_model import *\n",
    "from sklearn.preprocessing import PolynomialFeatures\n",
    "from sklearn.pipeline import make_pipeline\n",
    "\n",
    "import seaborn as sns\n",
    "import matplotlib.pyplot as plt\n",
    "%matplotlib inline"
   ]
  },
  {
   "cell_type": "code",
   "execution_count": 2,
   "metadata": {
    "collapsed": true
   },
   "outputs": [],
   "source": [
    "# read data\n",
    "df_main = pd.read_csv('./data/data.csv')"
   ]
  },
  {
   "cell_type": "code",
   "execution_count": 3,
   "metadata": {},
   "outputs": [
    {
     "data": {
      "text/html": [
       "<div>\n",
       "<style>\n",
       "    .dataframe thead tr:only-child th {\n",
       "        text-align: right;\n",
       "    }\n",
       "\n",
       "    .dataframe thead th {\n",
       "        text-align: left;\n",
       "    }\n",
       "\n",
       "    .dataframe tbody tr th {\n",
       "        vertical-align: top;\n",
       "    }\n",
       "</style>\n",
       "<table border=\"1\" class=\"dataframe\">\n",
       "  <thead>\n",
       "    <tr style=\"text-align: right;\">\n",
       "      <th></th>\n",
       "      <th>Tm</th>\n",
       "      <th>Pr</th>\n",
       "      <th>Th</th>\n",
       "      <th>Sv</th>\n",
       "      <th>Idx</th>\n",
       "    </tr>\n",
       "  </thead>\n",
       "  <tbody>\n",
       "    <tr>\n",
       "      <th>0</th>\n",
       "      <td>-20</td>\n",
       "      <td>500</td>\n",
       "      <td>0.027368</td>\n",
       "      <td>350.861031</td>\n",
       "      <td>54.903239</td>\n",
       "    </tr>\n",
       "    <tr>\n",
       "      <th>1</th>\n",
       "      <td>-20</td>\n",
       "      <td>500</td>\n",
       "      <td>0.027023</td>\n",
       "      <td>343.897695</td>\n",
       "      <td>52.155342</td>\n",
       "    </tr>\n",
       "    <tr>\n",
       "      <th>2</th>\n",
       "      <td>-20</td>\n",
       "      <td>500</td>\n",
       "      <td>0.026678</td>\n",
       "      <td>336.475830</td>\n",
       "      <td>49.533201</td>\n",
       "    </tr>\n",
       "    <tr>\n",
       "      <th>3</th>\n",
       "      <td>-20</td>\n",
       "      <td>500</td>\n",
       "      <td>0.026333</td>\n",
       "      <td>330.290415</td>\n",
       "      <td>47.025757</td>\n",
       "    </tr>\n",
       "    <tr>\n",
       "      <th>4</th>\n",
       "      <td>-20</td>\n",
       "      <td>500</td>\n",
       "      <td>0.025988</td>\n",
       "      <td>324.433876</td>\n",
       "      <td>44.623440</td>\n",
       "    </tr>\n",
       "  </tbody>\n",
       "</table>\n",
       "</div>"
      ],
      "text/plain": [
       "   Tm   Pr        Th          Sv        Idx\n",
       "0 -20  500  0.027368  350.861031  54.903239\n",
       "1 -20  500  0.027023  343.897695  52.155342\n",
       "2 -20  500  0.026678  336.475830  49.533201\n",
       "3 -20  500  0.026333  330.290415  47.025757\n",
       "4 -20  500  0.025988  324.433876  44.623440"
      ]
     },
     "execution_count": 3,
     "metadata": {},
     "output_type": "execute_result"
    }
   ],
   "source": [
    "# let's peek into the dataset\n",
    "df_main.head()"
   ]
  },
  {
   "cell_type": "code",
   "execution_count": 4,
   "metadata": {},
   "outputs": [
    {
     "data": {
      "text/html": [
       "<div>\n",
       "<style>\n",
       "    .dataframe thead tr:only-child th {\n",
       "        text-align: right;\n",
       "    }\n",
       "\n",
       "    .dataframe thead th {\n",
       "        text-align: left;\n",
       "    }\n",
       "\n",
       "    .dataframe tbody tr th {\n",
       "        vertical-align: top;\n",
       "    }\n",
       "</style>\n",
       "<table border=\"1\" class=\"dataframe\">\n",
       "  <thead>\n",
       "    <tr style=\"text-align: right;\">\n",
       "      <th></th>\n",
       "      <th>Tm</th>\n",
       "      <th>Pr</th>\n",
       "      <th>Th</th>\n",
       "      <th>Sv</th>\n",
       "      <th>Idx</th>\n",
       "    </tr>\n",
       "  </thead>\n",
       "  <tbody>\n",
       "    <tr>\n",
       "      <th>count</th>\n",
       "      <td>2376.000000</td>\n",
       "      <td>2376.000000</td>\n",
       "      <td>2376.000000</td>\n",
       "      <td>2376.000000</td>\n",
       "      <td>2376.000000</td>\n",
       "    </tr>\n",
       "    <tr>\n",
       "      <th>mean</th>\n",
       "      <td>30.000000</td>\n",
       "      <td>1750.000000</td>\n",
       "      <td>0.031347</td>\n",
       "      <td>370.428753</td>\n",
       "      <td>36.955041</td>\n",
       "    </tr>\n",
       "    <tr>\n",
       "      <th>std</th>\n",
       "      <td>34.163693</td>\n",
       "      <td>854.092316</td>\n",
       "      <td>0.004823</td>\n",
       "      <td>47.564937</td>\n",
       "      <td>6.562916</td>\n",
       "    </tr>\n",
       "    <tr>\n",
       "      <th>min</th>\n",
       "      <td>-20.000000</td>\n",
       "      <td>500.000000</td>\n",
       "      <td>0.022739</td>\n",
       "      <td>280.730251</td>\n",
       "      <td>26.836172</td>\n",
       "    </tr>\n",
       "    <tr>\n",
       "      <th>25%</th>\n",
       "      <td>0.000000</td>\n",
       "      <td>1000.000000</td>\n",
       "      <td>0.027244</td>\n",
       "      <td>330.670679</td>\n",
       "      <td>31.723869</td>\n",
       "    </tr>\n",
       "    <tr>\n",
       "      <th>50%</th>\n",
       "      <td>30.000000</td>\n",
       "      <td>1750.000000</td>\n",
       "      <td>0.031238</td>\n",
       "      <td>365.567203</td>\n",
       "      <td>35.622198</td>\n",
       "    </tr>\n",
       "    <tr>\n",
       "      <th>75%</th>\n",
       "      <td>60.000000</td>\n",
       "      <td>2500.000000</td>\n",
       "      <td>0.035286</td>\n",
       "      <td>405.090140</td>\n",
       "      <td>41.405485</td>\n",
       "    </tr>\n",
       "    <tr>\n",
       "      <th>max</th>\n",
       "      <td>80.000000</td>\n",
       "      <td>3000.000000</td>\n",
       "      <td>0.042237</td>\n",
       "      <td>528.087720</td>\n",
       "      <td>54.903239</td>\n",
       "    </tr>\n",
       "  </tbody>\n",
       "</table>\n",
       "</div>"
      ],
      "text/plain": [
       "                Tm           Pr           Th           Sv          Idx\n",
       "count  2376.000000  2376.000000  2376.000000  2376.000000  2376.000000\n",
       "mean     30.000000  1750.000000     0.031347   370.428753    36.955041\n",
       "std      34.163693   854.092316     0.004823    47.564937     6.562916\n",
       "min     -20.000000   500.000000     0.022739   280.730251    26.836172\n",
       "25%       0.000000  1000.000000     0.027244   330.670679    31.723869\n",
       "50%      30.000000  1750.000000     0.031238   365.567203    35.622198\n",
       "75%      60.000000  2500.000000     0.035286   405.090140    41.405485\n",
       "max      80.000000  3000.000000     0.042237   528.087720    54.903239"
      ]
     },
     "execution_count": 4,
     "metadata": {},
     "output_type": "execute_result"
    }
   ],
   "source": [
    "# describe the dataset\n",
    "df_main.describe()"
   ]
  },
  {
   "cell_type": "code",
   "execution_count": 5,
   "metadata": {},
   "outputs": [
    {
     "name": "stdout",
     "output_type": "stream",
     "text": [
      "<class 'pandas.core.frame.DataFrame'>\n",
      "RangeIndex: 2376 entries, 0 to 2375\n",
      "Data columns (total 5 columns):\n",
      "Tm     2376 non-null int64\n",
      " Pr    2376 non-null int64\n",
      "Th     2376 non-null float64\n",
      "Sv     2376 non-null float64\n",
      "Idx    2376 non-null float64\n",
      "dtypes: float64(3), int64(2)\n",
      "memory usage: 92.9 KB\n"
     ]
    }
   ],
   "source": [
    "df_main.info()"
   ]
  },
  {
   "cell_type": "code",
   "execution_count": 6,
   "metadata": {},
   "outputs": [
    {
     "data": {
      "text/plain": [
       "<matplotlib.axes._subplots.AxesSubplot at 0x18ce19e9668>"
      ]
     },
     "execution_count": 6,
     "metadata": {},
     "output_type": "execute_result"
    },
    {
     "data": {
      "image/png": "[encoded data removed]",
      "text/plain": [
       "<matplotlib.figure.Figure at 0x18ce199d908>"
      ]
     },
     "metadata": {},
     "output_type": "display_data"
    }
   ],
   "source": [
    "# calculate the correlation matrix\n",
    "corr = df_main.corr()\n",
    "\n",
    "# plot the correlation heatmap\n",
    "sns.heatmap(corr, \n",
    "        xticklabels=corr.columns,\n",
    "        yticklabels=corr.columns)"
   ]
  },
  {
   "cell_type": "markdown",
   "metadata": {},
   "source": [
    "The above heatmap shows the correlation between all the features. Correlation of 'Sv' with 'Idx' is comparitively higher. And below the scatter plot shows that there is a linear relationship between those two variables. The same you will find in 'Th' and 'Idx'."
   ]
  },
  {
   "cell_type": "code",
   "execution_count": 7,
   "metadata": {},
   "outputs": [
    {
     "data": {
      "text/plain": [
       "<matplotlib.collections.PathCollection at 0x18ce3c243c8>"
      ]
     },
     "execution_count": 7,
     "metadata": {},
     "output_type": "execute_result"
    },
    {
     "data": {
      "image/png": "[encoded data removed]",
      "text/plain": [
       "<matplotlib.figure.Figure at 0x18ce3a6c9e8>"
      ]
     },
     "metadata": {},
     "output_type": "display_data"
    }
   ],
   "source": [
    "plt.scatter(df_main['Idx'], df_main['Sv'], alpha=0.5)"
   ]
  },
  {
   "cell_type": "code",
   "execution_count": 8,
   "metadata": {},
   "outputs": [
    {
     "data": {
      "text/plain": [
       "<matplotlib.collections.PathCollection at 0x18ce3c36828>"
      ]
     },
     "execution_count": 8,
     "metadata": {},
     "output_type": "execute_result"
    },
    {
     "data": {
      "image/png": "[encoded data removed]",
      "text/plain": [
       "<matplotlib.figure.Figure at 0x18ce19d86a0>"
      ]
     },
     "metadata": {},
     "output_type": "display_data"
    }
   ],
   "source": [
    "plt.scatter(df_main['Idx'], df_main['Th'], alpha=0.5)"
   ]
  },
  {
   "cell_type": "markdown",
   "metadata": {},
   "source": []
  },
  {
   "cell_type": "code",
   "execution_count": 9,
   "metadata": {
    "collapsed": true
   },
   "outputs": [],
   "source": [
    "columns_x = ['Th', 'Sv', 'Tm', ' Pr']\n",
    "column_label = ['Idx']"
   ]
  },
  {
   "cell_type": "code",
   "execution_count": 10,
   "metadata": {
    "collapsed": true
   },
   "outputs": [],
   "source": [
    "X = df_main[columns_x]\n",
    "y = df_main[column_label]"
   ]
  },
  {
   "cell_type": "markdown",
   "metadata": {},
   "source": [
    "Now, let's split the data into train and test."
   ]
  },
  {
   "cell_type": "code",
   "execution_count": 11,
   "metadata": {
    "collapsed": true
   },
   "outputs": [],
   "source": [
    "X_train, X_test, y_train, y_test = train_test_split(X, y, test_size=0.33, random_state=42)"
   ]
  },
  {
   "cell_type": "code",
   "execution_count": 12,
   "metadata": {},
   "outputs": [
    {
     "name": "stdout",
     "output_type": "stream",
     "text": [
      "(1591, 4)\n",
      "(785, 4)\n"
     ]
    }
   ],
   "source": [
    "print(X_train.shape)\n",
    "print(X_test.shape)"
   ]
  },
  {
   "cell_type": "markdown",
   "metadata": {},
   "source": [
    "### The first linear model we'll try is LinearRegression model"
   ]
  },
  {
   "cell_type": "code",
   "execution_count": 13,
   "metadata": {
    "collapsed": true
   },
   "outputs": [],
   "source": [
    "reg = LinearRegression()\n",
    "reg = reg.fit(X_train, y_train)"
   ]
  },
  {
   "cell_type": "markdown",
   "metadata": {},
   "source": [
    "Our model is trained, now we'll calculate R2 score. Which is a statistical measure of how close the data is to the fitted regression line. Best possible score is 1.0 and it can be negative (because the model can be arbitrarily worse)."
   ]
  },
  {
   "cell_type": "code",
   "execution_count": 14,
   "metadata": {},
   "outputs": [
    {
     "data": {
      "text/plain": [
       "0.975110330464747"
      ]
     },
     "execution_count": 14,
     "metadata": {},
     "output_type": "execute_result"
    }
   ],
   "source": [
    "y_pred = reg.predict(X_test)\n",
    "r2_score(y_test, y_pred) "
   ]
  },
  {
   "cell_type": "code",
   "execution_count": 15,
   "metadata": {},
   "outputs": [
    {
     "data": {
      "text/plain": [
       "0.975110330464747"
      ]
     },
     "execution_count": 15,
     "metadata": {},
     "output_type": "execute_result"
    }
   ],
   "source": [
    "# other way of calculating the R2 score\n",
    "reg.score(X_test, y_test)"
   ]
  },
  {
   "cell_type": "markdown",
   "metadata": {},
   "source": [
    "Below is the list of weights and bias of the trained linear regression model."
   ]
  },
  {
   "cell_type": "code",
   "execution_count": 16,
   "metadata": {},
   "outputs": [
    {
     "name": "stdout",
     "output_type": "stream",
     "text": [
      "weights:  [[ 3.61334358e+03  5.55861130e-02 -5.43785108e-01 -1.60560837e-03]]\n",
      "bias:  [-77.78381734]\n"
     ]
    }
   ],
   "source": [
    "print(\"weights: \",reg.coef_)\n",
    "print(\"bias: \",reg.intercept_)"
   ]
  },
  {
   "cell_type": "markdown",
   "metadata": {},
   "source": [
    "Now I'll demonstrate how to use k-fold cross validation"
   ]
  },
  {
   "cell_type": "code",
   "execution_count": 17,
   "metadata": {},
   "outputs": [
    {
     "name": "stdout",
     "output_type": "stream",
     "text": [
      "[0.9783321790402408, 0.9732533362920268, 0.9757403443220285]\n"
     ]
    }
   ],
   "source": [
    "# split array in k(number of folds) sub arrays\n",
    "X_folds = np.array_split(X_train, 3)\n",
    "y_folds = np.array_split(y_train, 3)\n",
    "scores = list()\n",
    "models = list()\n",
    "for k in range(3):\n",
    "    reg = LinearRegression()\n",
    "    \n",
    "    # We use 'list' to copy, in order to 'pop' later on\n",
    "    X_train_fold = list(X_folds)\n",
    "    # pop out kth sub array for testing\n",
    "    X_test_fold  = X_train_fold.pop(k)\n",
    "    # concatenate remaining sub arrays for training\n",
    "    X_train_fold = np.concatenate(X_train_fold)\n",
    "    \n",
    "    # same process for y\n",
    "    y_train_fold = list(y_folds)\n",
    "    y_test_fold  = y_train_fold.pop(k)\n",
    "    y_train_fold = np.concatenate(y_train_fold)\n",
    "    \n",
    "    reg = reg.fit(X_train_fold, y_train_fold)\n",
    "    scores.append(reg.score(X_test_fold, y_test_fold))\n",
    "    models.append(reg)\n",
    "\n",
    "print(scores)"
   ]
  },
  {
   "cell_type": "markdown",
   "metadata": {},
   "source": [
    "I have taken only one linear model as an example here, but you can try different models. And compare them."
   ]
  },
  {
   "cell_type": "markdown",
   "metadata": {},
   "source": [
    "### Polynomial model"
   ]
  },
  {
   "cell_type": "markdown",
   "metadata": {},
   "source": [
    "In sklearn, there is a module named make_pipeline. So, in order to use the polynomial or non-linear model, what we have to do is, we make a pipeline with a linear model(LinearRegression, in our case) to PolynomialFeatures (which is also a class that takes 'degree' of polinomial in its constructor)."
   ]
  },
  {
   "cell_type": "code",
   "execution_count": 18,
   "metadata": {},
   "outputs": [
    {
     "name": "stdout",
     "output_type": "stream",
     "text": [
      "Degree  2\n",
      "R2 score:  0.9977539086415744\n",
      "coefficiets:  [[ 0.00000000e+00 -4.85960182e+03 -7.27625346e-02  1.25260432e+00\n",
      "   2.97853694e-03  1.80569531e+05  4.34191649e-01 -6.76552207e+01\n",
      "  -5.01666125e-02  1.17246625e-04 -2.99243256e-04 -6.06409432e-06\n",
      "   5.57667785e-03  1.23346472e-05  6.28142516e-08]]\n",
      "bias:  [42.67088036]\n",
      "---------------------------------\n",
      "\n",
      "Degree  3\n",
      "R2 score:  0.9982094232909468\n",
      "coefficiets:  [[-1.50710394e-02 -7.32192228e+03 -5.73182027e-01  4.84214298e-01\n",
      "   2.12880412e-02 -6.93550028e+01  2.37257849e+01  8.21910081e+01\n",
      "  -8.74639918e-01  9.60799916e-04 -5.41180844e-03 -6.62240158e-05\n",
      "  -1.05196680e-02  1.44848568e-04  1.56866759e-06 -6.49480887e-01\n",
      "   1.11474718e+03 -3.46959329e+03 -2.74389098e+01 -1.44910931e-01\n",
      "  -3.37019067e-03  8.54180535e-03  8.31446819e-01 -1.20050989e-03\n",
      "  -1.77467221e-04  3.38836003e-06  9.32266355e-06 -3.04314938e-07\n",
      "  -1.22471299e-05 -4.29463626e-07  1.19430297e-08 -5.34586890e-05\n",
      "   3.89265495e-07  1.03782440e-08 -1.65528036e-10]]\n",
      "bias:  [142.85265425]\n",
      "---------------------------------\n",
      "\n",
      "Degree  4\n",
      "R2 score:  0.9983342869614551\n",
      "coefficiets:  [[-9.71815096e-06  1.33459938e-01  2.32389922e-01 -9.75723171e-02\n",
      "   7.76462163e-03 -3.99813510e-04  1.48669846e-03  9.02522143e-03\n",
      "   1.36410976e-01 -1.52540211e-03 -1.74510805e-03  2.82645382e-05\n",
      "   1.10011515e-02  2.09326221e-04 -5.13146091e-06 -5.13301845e-06\n",
      "  -1.41195096e-04 -8.37917777e-04  1.07872861e-02  4.02834115e-02\n",
      "   2.88829306e-01 -2.27528511e-02 -8.56879148e-01 -7.86460587e-03\n",
      "   2.18039726e-03  5.93459745e-07 -6.76265548e-06  1.74929758e-06\n",
      "  -4.37680478e-05  5.51864658e-07 -2.19814315e-07  1.15501756e-04\n",
      "   1.62427782e-06 -7.64646246e-08  4.96604191e-09 -4.22697310e-08\n",
      "  -1.67476853e-04 -9.82976872e-05  2.59347501e-04 -3.92913993e-01\n",
      "  -3.42668592e-01  1.22648380e+00 -7.04965421e-02 -1.07054859e+00\n",
      "  -1.26174667e-01  1.15709001e-04 -1.30106662e-03 -1.59921419e-04\n",
      "   4.41826693e-03  3.87139915e-05  2.00948969e-05 -3.23536318e-03\n",
      "   5.25078607e-05  1.57483958e-05 -4.22188599e-07 -7.16240811e-09\n",
      "   5.54472781e-08  4.73381900e-09 -5.63812303e-08  4.66708096e-09\n",
      "  -6.62284144e-10 -3.28184981e-07 -4.08711934e-09 -1.57919394e-09\n",
      "   2.46969667e-11  4.90073017e-07  2.80191013e-09 -4.46860729e-10\n",
      "   3.66646435e-11 -2.69409495e-13]]\n",
      "bias:  [-12.48396852]\n",
      "---------------------------------\n",
      "\n",
      "Degree  5\n",
      "R2 score:  0.9984518964758804\n",
      "coefficiets:  [[-1.66965773e-09  1.07672002e-05 -1.48177579e-06  2.79562662e-06\n",
      "  -2.50572374e-08 -1.42011265e-08 -1.11579254e-07  6.08098343e-09\n",
      "  -3.91172787e-08 -2.19012434e-05 -1.05130253e-05 -4.32766113e-05\n",
      "  -2.18980594e-06 -3.77996265e-05  1.31366277e-05 -3.95156410e-09\n",
      "   1.03293688e-08 -3.66835975e-11 -1.59298795e-10  1.11106386e-07\n",
      "  -2.87424519e-07 -2.85114000e-06 -6.75155765e-09 -1.80328669e-06\n",
      "  -1.32819805e-05 -2.43082050e-06  5.35595627e-06  4.97128820e-07\n",
      "  -2.26617984e-05  1.60744586e-06 -1.25051653e-07  7.75270487e-05\n",
      "   3.99857158e-07 -2.37125066e-08  3.25968389e-09  3.82579403e-14\n",
      "   2.65663123e-11  1.88475980e-12  5.79518421e-11  1.23415068e-07\n",
      "   6.00754307e-09  2.33435253e-07  2.67926021e-09 -1.16284013e-08\n",
      "   5.29293450e-07  2.21953937e-04 -7.90724378e-06  1.27488675e-05\n",
      "   5.21021710e-06 -1.59291508e-04 -8.69933162e-06  1.63115689e-06\n",
      "   7.91060900e-06  4.50203742e-06  6.68638502e-07 -3.78596815e-09\n",
      "  -4.29373702e-08 -2.92464280e-09  8.98650776e-08  5.01929213e-09\n",
      "   1.22128875e-09 -2.39749559e-07  1.06659775e-08  2.73333271e-10\n",
      "  -1.00581317e-10 -4.99842551e-07  1.34714398e-08 -6.95193027e-10\n",
      "  -4.27706474e-11  1.90038949e-12  2.54159062e-16  1.76799291e-12\n",
      "   1.93451797e-13  5.49562821e-12  1.03350401e-08  1.06755845e-09\n",
      "   3.26209904e-08  2.17650101e-10  3.59521800e-09  1.03457918e-07\n",
      "   4.05361228e-05  3.95293393e-06  1.28694146e-04  8.19733953e-07\n",
      "   1.39725367e-05  3.74063147e-04  1.42036523e-07  3.44138403e-06\n",
      "   7.61035199e-05 -4.21997781e-05 -2.47317670e-07 -9.54496951e-07\n",
      "  -4.42735283e-08  3.80512390e-06  2.89734603e-07 -4.84475649e-08\n",
      "  -2.56775290e-05  9.69549310e-08 -5.99638032e-08  7.85451454e-09\n",
      "   6.53473480e-05  2.83860065e-08 -4.17085573e-08  5.35484555e-09\n",
      "  -2.03178552e-10  6.03226293e-12  1.04290934e-10  4.75899686e-12\n",
      "  -2.52462547e-10 -1.26865546e-11  8.86022919e-13  1.46228819e-09\n",
      "  -2.93511873e-11  3.23362055e-12 -2.96090440e-13  3.13809636e-10\n",
      "  -7.68459985e-11  6.15878343e-12 -4.73419137e-13  1.63052712e-14\n",
      "  -9.76821703e-09  8.46465751e-11  2.79361614e-12 -2.23643738e-13\n",
      "   1.26838875e-14 -2.51048707e-16]]\n",
      "bias:  [9.96802189]\n",
      "---------------------------------\n",
      "\n",
      "Degree  6\n",
      "R2 score:  0.9982101292603667\n",
      "coefficiets:  [[-1.03742966e-12  3.62342189e-08 -2.13048499e-09  2.62734336e-09\n",
      "  -1.20907121e-09 -2.93900213e-10 -7.32361375e-10 -2.08852476e-10\n",
      "  -3.37915860e-10 -2.93349224e-10 -4.64024414e-11  6.27696644e-11\n",
      "  -9.11652867e-11 -1.76634569e-10  1.47214516e-09 -7.95394422e-13\n",
      "   3.17500269e-12  7.47237180e-17  8.62881443e-16  8.54487793e-12\n",
      "   3.17399498e-13  1.78470124e-11 -1.36216068e-14 -2.08880660e-12\n",
      "   4.44399125e-11 -8.35763630e-09 -3.42138046e-09 -1.66943104e-09\n",
      "  -1.04902221e-09 -1.91159528e-08  2.09490154e-08 -1.68585411e-10\n",
      "  -3.12060962e-09 -9.24757672e-08  2.33249112e-09 -2.35830074e-18\n",
      "   9.31163761e-17  4.95896867e-19  1.37428638e-16  4.48190486e-13\n",
      "   3.70254254e-14  7.32203852e-13  4.71929962e-15 -1.77491262e-14\n",
      "   1.29181599e-12  2.05101132e-09  1.64134187e-10  3.14367570e-09\n",
      "   1.78804760e-11 -1.34030429e-10  5.00330455e-09  2.66968487e-12\n",
      "  -7.25771702e-11 -1.36512652e-09  1.11666118e-08 -2.02268395e-08\n",
      "   7.66552693e-08  1.36293779e-08 -3.46708622e-08 -4.85724517e-08\n",
      "  -4.79595125e-09 -6.84082884e-09  2.41559147e-08  1.44472541e-08\n",
      "   5.67081474e-10 -4.26522447e-09  3.55418780e-09 -3.63052515e-09\n",
      "  -9.43857728e-10 -2.26202837e-11  4.70797949e-22  2.22646224e-18\n",
      "   2.09840253e-19  3.46328965e-18  1.49590536e-14  1.37625754e-15\n",
      "   2.23392639e-14  1.87871081e-16 -2.54022134e-16  3.23530367e-14\n",
      "   8.52902607e-11  7.74161897e-12  1.14922011e-10  1.05029114e-12\n",
      "  -3.08484868e-12  1.24462432e-10  1.54328975e-13 -2.58873012e-12\n",
      "  -5.35841659e-11  3.16431119e-10  3.34972426e-07  3.07881392e-08\n",
      "   3.43547663e-07  4.38891898e-09 -2.53321810e-08 -3.34904883e-08\n",
      "   5.79100837e-10 -1.32485681e-08 -2.72858036e-07 -4.12662292e-09\n",
      "   1.22435691e-10 -1.94411710e-09 -1.34897748e-07  2.29437130e-08\n",
      "   3.43515888e-10  1.40034774e-10 -6.72468888e-10 -1.59280167e-10\n",
      "   1.88523580e-10  4.69344658e-10  5.25775596e-11  1.53760776e-09\n",
      "  -3.84317744e-10 -1.32208359e-10 -7.49469390e-12 -1.51319055e-09\n",
      "   2.44644415e-10  1.31521841e-10  1.45651832e-11  5.18736484e-13\n",
      "  -6.10682472e-09 -1.02435021e-09 -3.41595338e-12 -8.29911396e-12\n",
      "  -5.39292166e-13 -1.46983578e-14  7.38800710e-24  5.33363381e-20\n",
      "   4.37578586e-21  9.54292411e-20  3.48239160e-16  2.68527418e-17\n",
      "   6.50743266e-16  2.45714435e-18  6.89647454e-19  1.66332980e-15\n",
      "   1.90323163e-12  1.39179593e-13  3.72330046e-12  1.05200678e-14\n",
      "   2.08245617e-14  1.04451132e-11 -4.35786271e-16 -5.84011254e-14\n",
      "  -1.67259758e-13  4.69393255e-11  6.96055201e-09  4.90305482e-10\n",
      "   1.42434694e-08  3.03966592e-11  2.18496191e-10  4.24580551e-08\n",
      "  -1.25047376e-11 -2.56675346e-10  1.78249261e-09  1.70147978e-07\n",
      "  -1.34032875e-12 -2.31740848e-11 -2.19896781e-09  5.69661800e-08\n",
      "  -1.70429711e-08 -2.05947214e-09  7.45919725e-10  1.43917752e-09\n",
      "   3.97731557e-08 -6.32437614e-09 -8.69611536e-10 -9.98276467e-08\n",
      "  -7.84631345e-09  3.40494794e-09  1.51382108e-10 -1.22001318e-08\n",
      "  -3.72651512e-09  6.15201865e-10 -4.93500996e-10 -1.10252865e-11\n",
      "   2.61280917e-10  1.15373127e-07 -2.42634053e-09  2.98301616e-11\n",
      "   2.18864276e-11  3.35142478e-13 -1.09754959e-13  1.30955295e-12\n",
      "   1.21354218e-13 -3.90741185e-12 -6.64809103e-13 -1.87352362e-14\n",
      "  -1.36334873e-12  2.47222189e-12  1.39931586e-13  5.48476653e-17\n",
      "   4.31792029e-11  1.07665883e-13 -7.09942599e-13 -1.47293858e-14\n",
      "   2.67723249e-16 -1.15443161e-10 -8.85040474e-12  2.70372851e-13\n",
      "   7.20335604e-14  8.62697602e-16 -3.37383714e-17  2.16715558e-10\n",
      "  -5.72731227e-12  4.47518748e-13 -1.49411986e-14 -2.52453402e-15\n",
      "  -2.63860716e-17  1.45749224e-18]]\n",
      "bias:  [10.19603115]\n",
      "---------------------------------\n",
      "\n"
     ]
    }
   ],
   "source": [
    "# polynomial model\n",
    "for count, degree in enumerate([2, 3, 4, 5, 6]):\n",
    "    print(\"Degree \",degree)\n",
    "    model = make_pipeline(PolynomialFeatures(degree), LinearRegression())\n",
    "    model.fit(X_train, y_train)\n",
    "    y_pred = model.predict(X_test)\n",
    "    print(\"R2 score: \",r2_score(y_test, y_pred))\n",
    "    print(\"coefficiets: \",model.steps[1][1].coef_)\n",
    "    print(\"bias: \",model.steps[1][1].intercept_)\n",
    "    print(\"---------------------------------\")\n",
    "    print()"
   ]
  },
  {
   "cell_type": "code",
   "execution_count": null,
   "metadata": {
    "collapsed": true
   },
   "outputs": [],
   "source": []
  }
 ],
 "metadata": {
  "kernelspec": {
   "display_name": "Python 3",
   "language": "python",
   "name": "python3"
  },
  "language_info": {
   "codemirror_mode": {
    "name": "ipython",
    "version": 3
   },
   "file_extension": ".py",
   "mimetype": "text/x-python",
   "name": "python",
   "nbconvert_exporter": "python",
   "pygments_lexer": "ipython3",
   "version": "3.6.3"
  }
 },
 "nbformat": 4,
 "nbformat_minor": 2
}

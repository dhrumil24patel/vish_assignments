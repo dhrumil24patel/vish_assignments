{
 "cells": [
  {
   "cell_type": "code",
   "execution_count": 1,
   "metadata": {
    "collapsed": true
   },
   "outputs": [],
   "source": [
    "# improt dependencies\n",
    "import pandas as pd\n",
    "import numpy as np\n",
    "from sklearn import linear_model\n",
    "from sklearn.model_selection import train_test_split\n",
    "from sklearn.metrics import r2_score\n",
    "from sklearn.linear_model import *\n",
    "from sklearn.preprocessing import PolynomialFeatures\n",
    "from sklearn.pipeline import make_pipeline\n",
    "\n",
    "import seaborn as sns\n",
    "import matplotlib.pyplot as plt\n",
    "%matplotlib inline"
   ]
  },
  {
   "cell_type": "code",
   "execution_count": 2,
   "metadata": {
    "collapsed": true
   },
   "outputs": [],
   "source": [
    "# read data\n",
    "df_main = pd.read_csv('./data/data.csv')"
   ]
  },
  {
   "cell_type": "code",
   "execution_count": 3,
   "metadata": {},
   "outputs": [
    {
     "data": {
      "text/html": [
       "<div>\n",
       "<style scoped>\n",
       "    .dataframe tbody tr th:only-of-type {\n",
       "        vertical-align: middle;\n",
       "    }\n",
       "\n",
       "    .dataframe tbody tr th {\n",
       "        vertical-align: top;\n",
       "    }\n",
       "\n",
       "    .dataframe thead th {\n",
       "        text-align: right;\n",
       "    }\n",
       "</style>\n",
       "<table border=\"1\" class=\"dataframe\">\n",
       "  <thead>\n",
       "    <tr style=\"text-align: right;\">\n",
       "      <th></th>\n",
       "      <th>Tm</th>\n",
       "      <th>Pr</th>\n",
       "      <th>Th</th>\n",
       "      <th>Sv</th>\n",
       "      <th>Idx</th>\n",
       "    </tr>\n",
       "  </thead>\n",
       "  <tbody>\n",
       "    <tr>\n",
       "      <th>0</th>\n",
       "      <td>-20</td>\n",
       "      <td>500</td>\n",
       "      <td>0.027368</td>\n",
       "      <td>350.861031</td>\n",
       "      <td>54.903239</td>\n",
       "    </tr>\n",
       "    <tr>\n",
       "      <th>1</th>\n",
       "      <td>-20</td>\n",
       "      <td>500</td>\n",
       "      <td>0.027023</td>\n",
       "      <td>343.897695</td>\n",
       "      <td>52.155342</td>\n",
       "    </tr>\n",
       "    <tr>\n",
       "      <th>2</th>\n",
       "      <td>-20</td>\n",
       "      <td>500</td>\n",
       "      <td>0.026678</td>\n",
       "      <td>336.475830</td>\n",
       "      <td>49.533201</td>\n",
       "    </tr>\n",
       "    <tr>\n",
       "      <th>3</th>\n",
       "      <td>-20</td>\n",
       "      <td>500</td>\n",
       "      <td>0.026333</td>\n",
       "      <td>330.290415</td>\n",
       "      <td>47.025757</td>\n",
       "    </tr>\n",
       "    <tr>\n",
       "      <th>4</th>\n",
       "      <td>-20</td>\n",
       "      <td>500</td>\n",
       "      <td>0.025988</td>\n",
       "      <td>324.433876</td>\n",
       "      <td>44.623440</td>\n",
       "    </tr>\n",
       "  </tbody>\n",
       "</table>\n",
       "</div>"
      ],
      "text/plain": [
       "   Tm   Pr        Th          Sv        Idx\n",
       "0 -20  500  0.027368  350.861031  54.903239\n",
       "1 -20  500  0.027023  343.897695  52.155342\n",
       "2 -20  500  0.026678  336.475830  49.533201\n",
       "3 -20  500  0.026333  330.290415  47.025757\n",
       "4 -20  500  0.025988  324.433876  44.623440"
      ]
     },
     "execution_count": 3,
     "metadata": {},
     "output_type": "execute_result"
    }
   ],
   "source": [
    "# let's peek into the dataset\n",
    "df_main.head()"
   ]
  },
  {
   "cell_type": "code",
   "execution_count": 4,
   "metadata": {},
   "outputs": [
    {
     "data": {
      "text/html": [
       "<div>\n",
       "<style scoped>\n",
       "    .dataframe tbody tr th:only-of-type {\n",
       "        vertical-align: middle;\n",
       "    }\n",
       "\n",
       "    .dataframe tbody tr th {\n",
       "        vertical-align: top;\n",
       "    }\n",
       "\n",
       "    .dataframe thead th {\n",
       "        text-align: right;\n",
       "    }\n",
       "</style>\n",
       "<table border=\"1\" class=\"dataframe\">\n",
       "  <thead>\n",
       "    <tr style=\"text-align: right;\">\n",
       "      <th></th>\n",
       "      <th>Tm</th>\n",
       "      <th>Pr</th>\n",
       "      <th>Th</th>\n",
       "      <th>Sv</th>\n",
       "      <th>Idx</th>\n",
       "    </tr>\n",
       "  </thead>\n",
       "  <tbody>\n",
       "    <tr>\n",
       "      <th>count</th>\n",
       "      <td>2376.000000</td>\n",
       "      <td>2376.000000</td>\n",
       "      <td>2376.000000</td>\n",
       "      <td>2376.000000</td>\n",
       "      <td>2376.000000</td>\n",
       "    </tr>\n",
       "    <tr>\n",
       "      <th>mean</th>\n",
       "      <td>30.000000</td>\n",
       "      <td>1750.000000</td>\n",
       "      <td>0.031347</td>\n",
       "      <td>370.428753</td>\n",
       "      <td>36.955041</td>\n",
       "    </tr>\n",
       "    <tr>\n",
       "      <th>std</th>\n",
       "      <td>34.163693</td>\n",
       "      <td>854.092316</td>\n",
       "      <td>0.004823</td>\n",
       "      <td>47.564937</td>\n",
       "      <td>6.562916</td>\n",
       "    </tr>\n",
       "    <tr>\n",
       "      <th>min</th>\n",
       "      <td>-20.000000</td>\n",
       "      <td>500.000000</td>\n",
       "      <td>0.022739</td>\n",
       "      <td>280.730251</td>\n",
       "      <td>26.836172</td>\n",
       "    </tr>\n",
       "    <tr>\n",
       "      <th>25%</th>\n",
       "      <td>0.000000</td>\n",
       "      <td>1000.000000</td>\n",
       "      <td>0.027244</td>\n",
       "      <td>330.670679</td>\n",
       "      <td>31.723869</td>\n",
       "    </tr>\n",
       "    <tr>\n",
       "      <th>50%</th>\n",
       "      <td>30.000000</td>\n",
       "      <td>1750.000000</td>\n",
       "      <td>0.031238</td>\n",
       "      <td>365.567203</td>\n",
       "      <td>35.622198</td>\n",
       "    </tr>\n",
       "    <tr>\n",
       "      <th>75%</th>\n",
       "      <td>60.000000</td>\n",
       "      <td>2500.000000</td>\n",
       "      <td>0.035286</td>\n",
       "      <td>405.090140</td>\n",
       "      <td>41.405485</td>\n",
       "    </tr>\n",
       "    <tr>\n",
       "      <th>max</th>\n",
       "      <td>80.000000</td>\n",
       "      <td>3000.000000</td>\n",
       "      <td>0.042237</td>\n",
       "      <td>528.087720</td>\n",
       "      <td>54.903239</td>\n",
       "    </tr>\n",
       "  </tbody>\n",
       "</table>\n",
       "</div>"
      ],
      "text/plain": [
       "                Tm           Pr           Th           Sv          Idx\n",
       "count  2376.000000  2376.000000  2376.000000  2376.000000  2376.000000\n",
       "mean     30.000000  1750.000000     0.031347   370.428753    36.955041\n",
       "std      34.163693   854.092316     0.004823    47.564937     6.562916\n",
       "min     -20.000000   500.000000     0.022739   280.730251    26.836172\n",
       "25%       0.000000  1000.000000     0.027244   330.670679    31.723869\n",
       "50%      30.000000  1750.000000     0.031238   365.567203    35.622198\n",
       "75%      60.000000  2500.000000     0.035286   405.090140    41.405485\n",
       "max      80.000000  3000.000000     0.042237   528.087720    54.903239"
      ]
     },
     "execution_count": 4,
     "metadata": {},
     "output_type": "execute_result"
    }
   ],
   "source": [
    "# describe the dataset\n",
    "df_main.describe()"
   ]
  },
  {
   "cell_type": "code",
   "execution_count": 5,
   "metadata": {},
   "outputs": [
    {
     "name": "stdout",
     "output_type": "stream",
     "text": [
      "<class 'pandas.core.frame.DataFrame'>\n",
      "RangeIndex: 2376 entries, 0 to 2375\n",
      "Data columns (total 5 columns):\n",
      "Tm     2376 non-null int64\n",
      " Pr    2376 non-null int64\n",
      "Th     2376 non-null float64\n",
      "Sv     2376 non-null float64\n",
      "Idx    2376 non-null float64\n",
      "dtypes: float64(3), int64(2)\n",
      "memory usage: 92.9 KB\n"
     ]
    }
   ],
   "source": [
    "df_main.info()"
   ]
  },
  {
   "cell_type": "code",
   "execution_count": 6,
   "metadata": {},
   "outputs": [
    {
     "name": "stdout",
     "output_type": "stream",
     "text": [
      "Index(['Tm', ' Pr', 'Th', 'Sv', 'Idx'], dtype='object')\n"
     ]
    },
    {
     "data": {
      "image/png": "[encoded data removed]",
      "text/plain": [
       "<matplotlib.figure.Figure at 0x132d6f60>"
      ]
     },
     "metadata": {},
     "output_type": "display_data"
    }
   ],
   "source": [
    "# calculate the correlation matrix\n",
    "corr = df_main.corr()\n",
    "corr_columns = corr.columns\n",
    "\n",
    "# plot the correlation heatmap\n",
    "sns.heatmap(corr)\n",
    "print(corr_columns)"
   ]
  },
  {
   "cell_type": "markdown",
   "metadata": {},
   "source": [
    "The above heatmap shows the correlation between all the features. Correlation of 'Sv' with 'Idx' is comparitively higher. And below the scatter plot shows that there is a linear relationship between those two variables. The same you will find in 'Th' and 'Idx'."
   ]
  },
  {
   "cell_type": "code",
   "execution_count": 7,
   "metadata": {},
   "outputs": [
    {
     "data": {
      "text/plain": [
       "<matplotlib.collections.PathCollection at 0x15454160>"
      ]
     },
     "execution_count": 7,
     "metadata": {},
     "output_type": "execute_result"
    },
    {
     "data": {
      "image/png": "[encoded data removed]",
      "text/plain": [
       "<matplotlib.figure.Figure at 0x153a7eb8>"
      ]
     },
     "metadata": {},
     "output_type": "display_data"
    }
   ],
   "source": [
    "plt.scatter(df_main['Idx'], df_main['Sv'], alpha=0.5)"
   ]
  },
  {
   "cell_type": "code",
   "execution_count": 8,
   "metadata": {},
   "outputs": [
    {
     "data": {
      "text/plain": [
       "<matplotlib.collections.PathCollection at 0x158f8c18>"
      ]
     },
     "execution_count": 8,
     "metadata": {},
     "output_type": "execute_result"
    },
    {
     "data": {
      "image/png": "[encoded data removed]",
      "text/plain": [
       "<matplotlib.figure.Figure at 0x15462400>"
      ]
     },
     "metadata": {},
     "output_type": "display_data"
    }
   ],
   "source": [
    "plt.scatter(df_main['Idx'], df_main['Th'], alpha=0.5)"
   ]
  },
  {
   "cell_type": "markdown",
   "metadata": {},
   "source": []
  },
  {
   "cell_type": "code",
   "execution_count": 9,
   "metadata": {
    "collapsed": true
   },
   "outputs": [],
   "source": [
    "columns_x = ['Th', 'Sv', 'Tm', ' Pr']\n",
    "column_label = ['Idx']"
   ]
  },
  {
   "cell_type": "code",
   "execution_count": 10,
   "metadata": {
    "collapsed": true
   },
   "outputs": [],
   "source": [
    "X = df_main[columns_x]\n",
    "y = df_main[column_label]"
   ]
  },
  {
   "cell_type": "markdown",
   "metadata": {},
   "source": [
    "Now, let's split the data into train and test."
   ]
  },
  {
   "cell_type": "code",
   "execution_count": 11,
   "metadata": {
    "collapsed": true
   },
   "outputs": [],
   "source": [
    "X_train, X_test, y_train, y_test = train_test_split(X, y, test_size=0.33, random_state=42)"
   ]
  },
  {
   "cell_type": "code",
   "execution_count": 12,
   "metadata": {},
   "outputs": [
    {
     "name": "stdout",
     "output_type": "stream",
     "text": [
      "(1591, 4)\n",
      "(785, 4)\n"
     ]
    }
   ],
   "source": [
    "print(X_train.shape)\n",
    "print(X_test.shape)"
   ]
  },
  {
   "cell_type": "markdown",
   "metadata": {},
   "source": [
    "### The first linear model we'll try is LinearRegression model"
   ]
  },
  {
   "cell_type": "code",
   "execution_count": 13,
   "metadata": {
    "collapsed": true
   },
   "outputs": [],
   "source": [
    "reg = LinearRegression()\n",
    "reg = reg.fit(X_train, y_train)"
   ]
  },
  {
   "cell_type": "markdown",
   "metadata": {},
   "source": [
    "Our model is trained, now we'll calculate R2 score. Which is a statistical measure of how close the data is to the fitted regression line. Best possible score is 1.0 and it can be negative (because the model can be arbitrarily worse)."
   ]
  },
  {
   "cell_type": "code",
   "execution_count": 14,
   "metadata": {},
   "outputs": [
    {
     "data": {
      "text/plain": [
       "0.9751103304647469"
      ]
     },
     "execution_count": 14,
     "metadata": {},
     "output_type": "execute_result"
    }
   ],
   "source": [
    "y_pred = reg.predict(X_test)\n",
    "r2_score(y_test, y_pred) "
   ]
  },
  {
   "cell_type": "code",
   "execution_count": 15,
   "metadata": {},
   "outputs": [
    {
     "data": {
      "text/plain": [
       "0.975110330464747"
      ]
     },
     "execution_count": 15,
     "metadata": {},
     "output_type": "execute_result"
    }
   ],
   "source": [
    "# other way of calculating the R2 score\n",
    "reg.score(X_test, y_test)"
   ]
  },
  {
   "cell_type": "markdown",
   "metadata": {},
   "source": [
    "Below is the list of weights and bias of the trained linear regression model."
   ]
  },
  {
   "cell_type": "code",
   "execution_count": 16,
   "metadata": {},
   "outputs": [
    {
     "name": "stdout",
     "output_type": "stream",
     "text": [
      "weights:  [[ 3.61334358e+03  5.55861130e-02 -5.43785108e-01 -1.60560837e-03]]\n",
      "bias:  [-77.78381734]\n"
     ]
    }
   ],
   "source": [
    "print(\"weights: \",reg.coef_)\n",
    "print(\"bias: \",reg.intercept_)"
   ]
  },
  {
   "cell_type": "markdown",
   "metadata": {},
   "source": [
    "Now I'll demonstrate how to use k-fold cross validation"
   ]
  },
  {
   "cell_type": "code",
   "execution_count": 17,
   "metadata": {},
   "outputs": [
    {
     "name": "stdout",
     "output_type": "stream",
     "text": [
      "[0.9783321790402408, 0.9732533362920271, 0.975740344322028]\n"
     ]
    }
   ],
   "source": [
    "# split array in k(number of folds) sub arrays\n",
    "X_folds = np.array_split(X_train, 3)\n",
    "y_folds = np.array_split(y_train, 3)\n",
    "scores = list()\n",
    "models = list()\n",
    "for k in range(3):\n",
    "    reg = LinearRegression()\n",
    "    \n",
    "    # We use 'list' to copy, in order to 'pop' later on\n",
    "    X_train_fold = list(X_folds)\n",
    "    # pop out kth sub array for testing\n",
    "    X_test_fold  = X_train_fold.pop(k)\n",
    "    # concatenate remaining sub arrays for training\n",
    "    X_train_fold = np.concatenate(X_train_fold)\n",
    "    \n",
    "    # same process for y\n",
    "    y_train_fold = list(y_folds)\n",
    "    y_test_fold  = y_train_fold.pop(k)\n",
    "    y_train_fold = np.concatenate(y_train_fold)\n",
    "    \n",
    "    reg = reg.fit(X_train_fold, y_train_fold)\n",
    "    scores.append(reg.score(X_test_fold, y_test_fold))\n",
    "    models.append(reg)\n",
    "\n",
    "print(scores)"
   ]
  },
  {
   "cell_type": "markdown",
   "metadata": {},
   "source": [
    "I have taken only one linear model as an example here, but you can try different models. And compare them."
   ]
  },
  {
   "cell_type": "markdown",
   "metadata": {},
   "source": [
    "### Polynomial model"
   ]
  },
  {
   "cell_type": "markdown",
   "metadata": {},
   "source": [
    "In sklearn, there is a module named make_pipeline. So, in order to use the polynomial or non-linear model, what we have to do is, we make a pipeline with a linear model(LinearRegression, in our case) to PolynomialFeatures (which is also a class that takes 'degree' of polinomial in its constructor)."
   ]
  },
  {
   "cell_type": "code",
   "execution_count": 33,
   "metadata": {},
   "outputs": [
    {
     "name": "stdout",
     "output_type": "stream",
     "text": [
      "Degree  2\n",
      "R2 score:  0.9977539196788104\n",
      "equation:  (0.0)+(-4859.601687699423*X1^1)+(-0.07276267429669948*X2^1)+(1.252604439499959*X3^1)+(0.002978540465966237*X4^1)+(180569.50450222704*X1^2)+(0.4341954847648627*X1^1*X2^1)+(-67.6552123152586*X1^1*X3^1)+(-0.05016684049681255*X1^1*X4^1)+(0.00011724670912371948*X2^2)+(-0.0002992442168761045*X2^1*X3^1)+(-6.064079286716151e-06*X2^1*X4^1)+(0.00557667764951475*X3^2)+(1.2334676284808666e-05*X3^1*X4^1)+(6.281788955675438e-08*X4^2)\n",
      "bias:  [42.67087778]\n",
      "---------------------------------\n",
      "\n",
      "Degree  3\n",
      "R2 score:  0.9981974520370632\n",
      "equation:  (-0.015071918058648534)+(-7208.776376546431*X1^1)+(-0.5730917705434111*X2^1)+(0.46273799918667097*X3^1)+(0.020993970566208605*X4^1)+(-144.5284484946879*X1^2)+(23.861855825325176*X1^1*X2^1)+(82.78025092288725*X1^1*X3^1)+(-0.8499467095421332*X1^1*X4^1)+(0.0009400339288441473*X2^2)+(-0.005445666046803596*X2^1*X3^1)+(-6.561013149930517e-05*X2^1*X4^1)+(-0.010595277752048472*X3^2)+(0.0001464586363750242*X3^1*X4^1)+(1.4977820654848983e-06*X4^2)+(-0.8293169374312697*X1^3)+(1090.4284908004736*X1^2*X2^1)+(-3474.850234284649*X1^2*X3^1)+(-27.638194011356184*X1^2*X4^1)+(-0.14215775469613606*X1^1*X2^2)+(0.0018637515297633472*X1^1*X2^1*X3^1)+(0.00847939802438838*X1^1*X2^1*X4^1)+(0.8322119717054075*X1^1*X3^2)+(-0.001232425381157018*X1^1*X3^1*X4^1)+(-0.00017779849595023212*X1^1*X4^2)+(3.321445802839662e-06*X2^3)+(9.044000748303915e-06*X2^2*X3^1)+(-3.021861516572244e-07*X2^2*X4^1)+(-1.2396090397714943e-05*X2^1*X3^2)+(-4.2623685203579953e-07*X2^1*X3^1*X4^1)+(1.1984639058937319e-08*X2^1*X4^2)+(-5.372457183883128e-05*X3^3)+(3.890216362378851e-07*X3^2*X4^1)+(1.030684870784171e-08*X3^1*X4^2)+(-1.546140993013978e-10*X4^3)\n",
      "bias:  [141.01230697]\n",
      "---------------------------------\n",
      "\n",
      "Degree  4\n",
      "R2 score:  0.99830132003199\n",
      "equation:  (-9.728079008755246e-06)+(-0.008439640730531574*X1^1)+(0.015288106035741085*X2^1)+(0.16514967194139396*X3^1)+(0.016380464552139297*X4^1)+(-0.00029315815700957636*X1^2)+(0.007498265786170675*X1^1*X2^1)+(0.015137835183779823*X1^1*X3^1)+(0.041899912422094183*X1^1*X4^1)+(-0.00031730861960440395*X2^2)+(-0.004296237322284551*X2^1*X3^1)+(-6.491684687756702e-05*X2^1*X4^1)+(0.011616497505991065*X3^2)+(0.00026597776913957113*X3^1*X4^1)+(-2.2961551805133195e-06*X4^2)+(4.2138714118665175e-07*X1^3)+(0.0018533705377291115*X1^2*X2^1)+(-0.00015916433758781715*X1^2*X3^1)+(0.006078760070380674*X1^2*X4^1)+(0.02281170920273514*X1^1*X2^2)+(0.28350126815694465*X1^1*X2^1*X3^1)+(-0.01767420304249053*X1^1*X2^1*X4^1)+(-0.7811594480776017*X1^1*X3^2)+(-0.005287983829693812*X1^1*X3^1*X4^1)+(0.0018072587394207776*X1^1*X4^2)+(-9.148137301142272e-07*X2^3)+(3.81544114216252e-06*X2^2*X3^1)+(1.6577841802966405e-06*X2^2*X4^1)+(-5.3788567605331606e-05*X2^1*X3^2)+(-6.369034553388192e-07*X2^1*X3^1*X4^1)+(-1.9641927556678963e-07*X2^1*X4^2)+(0.00010911066828545359*X3^3)+(1.73650126998413e-06*X3^2*X4^1)+(-1.4243043483074935e-08*X3^1*X4^2)+(4.284940041676677e-09*X4^3)+(1.7704397384068798e-08*X1^4)+(0.00011335839393567788*X1^3*X2^1)+(-2.3998172465324804e-05*X1^3*X3^1)+(7.000232135703924e-05*X1^3*X4^1)+(0.5159925782757501*X1^2*X2^2)+(-0.11615874005365977*X1^2*X2^1*X3^1)+(0.9782317680676775*X1^2*X2^1*X4^1)+(-0.014934669555193784*X1^2*X3^2)+(-1.1796192033918835*X1^2*X3^1*X4^1)+(-0.107296004765106*X1^2*X4^2)+(8.92152776308051e-06*X1^1*X2^3)+(-0.001495688848803207*X1^1*X2^2*X3^1)+(-0.00012749113160460712*X1^1*X2^2*X4^1)+(0.004064903321730375*X1^1*X2^1*X3^2)+(0.00010004572038870645*X1^1*X2^1*X3^1*X4^1)+(1.6932500849371735e-05*X1^1*X2^1*X4^2)+(-0.003031575403694817*X1^1*X3^3)+(8.167971480288725e-05*X1^1*X3^2*X4^1)+(1.151009453711596e-05*X1^1*X3^1*X4^2)+(-3.4612796083737397e-07*X1^1*X4^3)+(-1.903046203260983e-09*X2^4)+(5.6196128682319685e-08*X2^3*X3^1)+(3.4191173850506296e-09*X2^3*X4^1)+(-1.2590810215013393e-08*X2^2*X3^2)+(2.2559940339450524e-09*X2^2*X3^1*X4^1)+(-5.251898221869666e-10*X2^2*X4^2)+(-3.1926638688404944e-07*X2^1*X3^3)+(-9.920353295344436e-09*X2^1*X3^2*X4^1)+(-1.3131974258007162e-09*X2^1*X3^1*X4^2)+(1.9260232297924063e-11*X2^1*X4^3)+(4.717908968980653e-07*X3^4)+(1.845094826707569e-09*X3^3*X4^1)+(-1.6383489009896834e-10*X3^2*X4^2)+(2.991637493288124e-11*X3^1*X4^3)+(-2.0429144487188466e-13*X4^4)\n",
      "bias:  [2.59669627]\n",
      "---------------------------------\n",
      "\n",
      "Degree  5\n",
      "R2 score:  0.9984524530285035\n",
      "equation:  (-1.6695136428326964e-09)+(1.6057815193718974e-05*X1^1)+(-1.7367855621859229e-06*X2^1)+(1.8883006716312185e-06*X3^1)+(-1.204695419389129e-07*X4^1)+(-2.2897687461390275e-08*X1^2)+(-2.5518881538476067e-08*X1^1*X2^1)+(2.1696305149105487e-09*X1^1*X3^1)+(-2.9526472599747016e-08*X1^1*X4^1)+(-2.1032555800932823e-05*X2^2)+(-1.0796892895080405e-05*X2^1*X3^1)+(-4.577676566813913e-05*X2^1*X4^1)+(-2.736387168593177e-06*X3^2)+(-3.181424418886975e-05*X3^1*X4^1)+(1.321629221953514e-05*X4^2)+(-6.669843515240164e-10*X1^3)+(1.7087715232663324e-09*X1^2*X2^1)+(-1.9823929589228543e-12*X1^2*X3^1)+(7.138258313652863e-10*X1^2*X4^1)+(1.1224025101302038e-06*X1^1*X2^2)+(-1.2505466855552933e-07*X1^1*X2^1*X3^1)+(2.9176176048363463e-07*X1^1*X2^1*X4^1)+(2.1372136544546035e-08*X1^1*X3^2)+(-1.1994178777955512e-06*X1^1*X3^1*X4^1)+(-2.635887136800546e-06*X1^1*X4^2)+(-2.443916391144801e-06*X2^3)+(5.3915632950567535e-06*X2^2*X3^1)+(5.150579389260768e-07*X2^2*X4^1)+(-2.287270721580089e-05*X2^1*X3^2)+(1.5334364306381587e-06*X2^1*X3^1*X4^1)+(-1.2496927706826295e-07*X2^1*X4^2)+(7.774484302078897e-05*X3^3)+(4.715812868001191e-07*X3^2*X4^1)+(-2.5189379391970644e-08*X3^1*X4^2)+(3.1130503905528875e-09*X4^3)+(7.655714349468004e-15*X1^4)+(2.8887128864463642e-11*X1^3*X2^1)+(2.278900424404813e-12*X1^3*X3^1)+(7.2235294869275e-11*X1^3*X4^1)+(1.3006785094602826e-07*X1^2*X2^2)+(7.512693678975268e-09*X1^2*X2^1*X3^1)+(2.802260202121167e-07*X1^2*X2^1*X4^1)+(3.2631672290880626e-09*X1^2*X3^2)+(-6.779621088964282e-09*X1^2*X3^1*X4^1)+(7.483610359252847e-07*X1^2*X4^2)+(0.000221342994670942*X1^1*X2^3)+(-4.739567406313551e-06*X1^1*X2^2*X3^1)+(1.3217131271889118e-05*X1^1*X2^2*X4^1)+(7.325543740681743e-06*X1^1*X2^1*X3^2)+(-0.0001601885153068716*X1^1*X2^1*X3^1*X4^1)+(-9.014495663720973e-06*X1^1*X2^1*X4^2)+(2.6104116376574337e-06*X1^1*X3^3)+(7.940915197878296e-06*X1^1*X3^2*X4^1)+(4.907313546700751e-06*X1^1*X3^1*X4^2)+(6.931158285623437e-07*X1^1*X4^3)+(-3.6932270038264676e-09*X2^4)+(-4.337686170470426e-08*X2^3*X3^1)+(-3.011328800992385e-09*X2^3*X4^1)+(9.074962080540872e-08*X2^2*X3^2)+(5.359305877265214e-09*X2^2*X3^1*X4^1)+(1.2425166035300625e-09*X2^2*X4^2)+(-2.419292519156995e-07*X2^1*X3^3)+(1.0280575263486006e-08*X2^1*X3^2*X4^1)+(2.603304891244542e-10*X2^1*X3^1*X4^2)+(-1.0234184213106315e-10*X2^1*X4^3)+(-4.985450886126705e-07*X3^4)+(1.3533998611762753e-08*X3^3*X4^1)+(-7.213821120701384e-10*X3^2*X4^2)+(-4.379102518173936e-11*X3^1*X4^3)+(1.939825530356819e-12*X4^4)+(2.358804050712922e-16*X1^5)+(1.6131581272330323e-12*X1^4*X2^1)+(1.6821491164757355e-13*X1^4*X3^1)+(5.403028966683528e-12*X1^4*X4^1)+(9.304300528803661e-09*X1^3*X2^2)+(8.949013217935632e-10*X1^3*X2^1*X3^1)+(3.1621287191212246e-08*X1^3*X2^1*X4^1)+(1.9550164697351083e-10*X1^3*X3^2)+(3.0710617140572993e-09*X1^3*X3^1*X4^1)+(1.0616722031325181e-07*X1^3*X4^2)+(3.613681429680936e-05*X1^2*X2^3)+(3.1927505065827243e-06*X1^2*X2^2*X3^1)+(0.0001236368865386746*X1^2*X2^2*X4^1)+(7.136078577374391e-07*X1^2*X2^1*X3^2)+(1.1553580855139435e-05*X1^2*X2^1*X3^1*X4^1)+(0.00038084573516246583*X1^2*X2^1*X4^2)+(1.3319734576470598e-07*X1^2*X3^3)+(2.9816114472225135e-06*X1^2*X3^2*X4^1)+(6.798973570959037e-05*X1^2*X3^1*X4^2)+(-4.293577561342254e-05*X1^2*X4^3)+(-2.450269182757541e-07*X1^1*X2^4)+(-9.6253053775268e-07*X1^1*X2^3*X3^1)+(-4.453339287702178e-08*X1^1*X2^3*X4^1)+(3.8156768287707135e-06*X1^1*X2^2*X3^2)+(2.9271775940625067e-07*X1^1*X2^2*X3^1*X4^1)+(-4.8905374933505555e-08*X1^1*X2^2*X4^2)+(-2.5701698086208485e-05*X1^1*X2^1*X3^3)+(9.059637663577727e-08*X1^1*X2^1*X3^2*X4^1)+(-6.061614654540774e-08*X1^1*X2^1*X3^1*X4^2)+(7.941677702050229e-09*X1^1*X2^1*X4^3)+(6.525928183852647e-05*X1^1*X3^4)+(4.430784256182418e-08*X1^1*X3^3*X4^1)+(-3.980066056159431e-08*X1^1*X3^2*X4^2)+(5.43915053442772e-09*X1^1*X3^1*X4^3)+(-2.0571162101414154e-10*X1^1*X4^4)+(5.8293387565983636e-12*X2^5)+(1.0519786570255418e-10*X2^4*X3^1)+(4.8615739669200785e-12*X2^4*X4^1)+(-2.547838055720218e-10*X2^3*X3^2)+(-1.32313325101659e-11*X2^3*X3^1*X4^1)+(8.820562810213771e-13*X2^3*X4^2)+(1.4675037064708183e-09*X2^2*X3^3)+(-2.8196598880676687e-11*X2^2*X3^2*X4^1)+(3.306888234213062e-12*X2^2*X3^1*X4^2)+(-2.9800262776986724e-13*X2^2*X4^3)+(3.190055477151046e-10*X2^1*X3^4)+(-7.801154495589822e-11*X2^1*X3^3*X4^1)+(6.0764656027238235e-12*X2^1*X3^2*X4^2)+(-4.79942105133428e-13*X2^1*X3^1*X4^3)+(1.6432185490365724e-14*X2^1*X4^4)+(-9.760679972087412e-09*X3^5)+(8.327412470706074e-11*X3^4*X4^1)+(2.733980190890121e-12*X3^3*X4^2)+(-2.2395188572802963e-13*X3^2*X4^3)+(1.2855669232835311e-14*X3^1*X4^4)+(-2.527749602514173e-16*X4^5)\n",
      "bias:  [10.01391772]\n",
      "---------------------------------\n",
      "\n",
      "Degree  6\n",
      "R2 score:  0.9982149850749183\n",
      "equation:  (-1.0379091582645635e-12)+(-8.031724959538639e-10*X1^1)+(-5.490322129480113e-09*X2^1)+(4.145927762155061e-09*X3^1)+(1.0329723485618374e-10*X4^1)+(-5.1124352198469094e-11*X1^2)+(-9.834759593003993e-11*X1^1*X2^1)+(1.2194839428314446e-10*X1^1*X3^1)+(2.8361527214748762e-11*X1^1*X4^1)+(3.139477787956242e-11*X2^2)+(-4.1401192755460445e-11*X2^1*X3^1)+(1.403198562309068e-10*X2^1*X4^1)+(-7.051227374609393e-11*X3^2)+(-1.7871508139902808e-10*X3^1*X4^1)+(1.4318230698304753e-09*X4^2)+(-6.475193479159832e-13*X1^3)+(-3.048190559379534e-12*X1^2*X2^1)+(-8.915225086099834e-16*X1^2*X3^1)+(1.469481125248831e-14*X1^2*X4^1)+(9.01861390344034e-12*X1^1*X2^2)+(4.760826345019473e-13*X1^1*X2^1*X3^1)+(1.8912341972230688e-11*X1^1*X2^1*X4^1)+(-1.339668798033712e-14*X1^1*X3^2)+(-1.426650327288939e-12*X1^1*X3^1*X4^1)+(4.620099229066942e-11*X1^1*X4^2)+(-8.48195916243773e-09*X2^3)+(-3.71721625495578e-09*X2^2*X3^1)+(-3.25843595007419e-09*X2^2*X4^1)+(-1.2422471200792333e-09*X2^1*X3^2)+(-1.956167225025116e-08*X2^1*X3^1*X4^1)+(1.719956521062936e-08*X2^1*X4^2)+(-2.0208585784445313e-10*X3^3)+(-3.890207809035587e-09*X3^2*X4^1)+(-8.943077740804932e-08*X3^1*X4^2)+(2.935092770295329e-09*X4^3)+(-2.53794916101742e-17*X1^4)+(4.3169841956371876e-17*X1^3*X2^1)+(-2.344789148776797e-17*X1^3*X3^1)+(1.2622624085210509e-16*X1^3*X4^1)+(4.581126139788742e-13*X1^2*X2^2)+(4.339009730749497e-14*X1^2*X2^1*X3^1)+(7.686242649987306e-13*X1^2*X2^1*X4^1)+(5.517646882319922e-15*X1^2*X3^2)+(6.7266663983840255e-15*X1^2*X3^1*X4^1)+(1.350398683074779e-12*X1^2*X4^2)+(2.1140549768953434e-09*X1^1*X2^3)+(1.9405297805231307e-10*X1^1*X2^2*X3^1)+(3.3646490275702256e-09*X1^1*X2^2*X4^1)+(2.1663469659283336e-11*X1^1*X2^1*X3^2)+(-2.6627759835071465e-11*X1^1*X2^1*X3^1*X4^1)+(5.538843340834132e-09*X1^1*X2^1*X4^2)+(3.933194200497539e-12*X1^1*X3^3)+(-6.512187861491803e-11*X1^1*X3^2*X4^1)+(-9.515862405073188e-10*X1^1*X3^1*X4^2)+(1.2165697856646163e-08*X1^1*X4^3)+(-2.0491771272773764e-08*X2^4)+(7.725359603065816e-08*X2^3*X3^1)+(1.3833837886314842e-08*X2^3*X4^1)+(-3.4007027883482456e-08*X2^2*X3^2)+(-4.905278596155328e-08*X2^2*X3^1*X4^1)+(-4.834068408174195e-09*X2^2*X4^2)+(-6.0134620021831594e-09*X2^1*X3^3)+(2.3791705318227374e-08*X2^1*X3^2*X4^1)+(1.4562400379887006e-08*X2^1*X3^1*X4^2)+(5.723559825343935e-10*X2^1*X4^3)+(-5.391409401941554e-09*X3^4)+(3.4255579663064687e-09*X3^3*X4^1)+(-3.5555986476910994e-09*X3^2*X4^2)+(-9.576119510666212e-10*X3^1*X4^3)+(-2.313766589281931e-11*X4^4)+(-1.8362150371667388e-21*X1^5)+(2.1375178034974426e-18*X1^4*X2^1)+(2.286448235934865e-19*X1^4*X3^1)+(3.35144431682439e-18*X1^4*X4^1)+(1.4411448312315747e-14*X1^3*X2^2)+(1.4384379865634207e-15*X1^3*X2^1*X3^1)+(2.1655431110526397e-14*X1^3*X2^1*X4^1)+(1.9901341033798692e-16*X1^3*X3^2)+(1.1423556869976518e-16*X1^3*X3^1*X4^1)+(2.853950840389968e-14*X1^3*X4^2)+(8.289686733967054e-11*X1^2*X2^3)+(8.1276239740196e-12*X1^2*X2^2*X3^1)+(1.1293622021924146e-10*X1^2*X2^2*X4^1)+(1.1272266812105604e-12*X1^2*X2^1*X3^2)+(-1.3615218640969696e-12*X1^2*X2^1*X3^1*X4^1)+(1.1184173326282697e-10*X1^2*X2^1*X4^2)+(1.9827922735133962e-13*X1^2*X3^3)+(-2.4309201238360615e-12*X1^2*X3^2*X4^1)+(-4.990813317448101e-11*X1^2*X3^1*X4^2)+(2.409896243656361e-10*X1^2*X4^3)+(3.314886545948207e-07*X1^1*X2^4)+(3.264886770903893e-08*X1^1*X2^3*X3^1)+(3.496331576643236e-07*X1^1*X2^3*X4^1)+(4.865068557444543e-09*X1^1*X2^2*X3^2)+(-2.053101418138577e-08*X1^1*X2^2*X3^1*X4^1)+(-3.565478762977256e-08*X1^1*X2^2*X4^2)+(7.999713490786427e-10*X1^1*X2^1*X3^3)+(-1.2371739585818501e-08*X1^1*X2^1*X3^2*X4^1)+(-2.7683656841332574e-07*X1^1*X2^1*X3^1*X4^2)+(-3.759152882744604e-09*X1^1*X2^1*X4^3)+(1.8164545902644428e-10*X1^1*X3^4)+(-1.3049872757904588e-09*X1^1*X3^3*X4^1)+(-1.369058192929768e-07*X1^1*X3^2*X4^2)+(2.3669790291339764e-08*X1^1*X3^1*X4^3)+(3.145945745590402e-10*X1^1*X4^4)+(1.4153994834373447e-10*X2^5)+(-6.756058267314397e-10*X2^4*X3^1)+(-1.6058414024122793e-10*X2^4*X4^1)+(1.813660383087295e-10*X2^3*X3^2)+(4.709744314957641e-10*X2^3*X3^1*X4^1)+(5.2895788462302874e-11*X2^3*X4^2)+(1.5499644230827189e-09*X2^2*X3^3)+(-3.8184445936797943e-10*X2^2*X3^2*X4^1)+(-1.3231164926418546e-10*X2^2*X3^1*X4^2)+(-7.531206021016004e-12*X2^2*X4^3)+(-1.485592082900585e-09*X2^1*X3^4)+(2.392970368374415e-10*X2^1*X3^3*X4^1)+(1.315465021530431e-10*X2^1*X3^2*X4^2)+(1.4531635919822625e-11*X2^1*X3^1*X4^3)+(5.199730744147681e-13*X2^1*X4^4)+(-6.281415716448465e-09*X3^5)+(-1.017308446156605e-09*X3^4*X4^1)+(-2.9333554027551097e-12*X3^3*X4^2)+(-8.359530949200556e-12*X3^2*X4^3)+(-5.355151581644251e-13*X3^1*X4^4)+(-1.454340858454583e-14*X4^5)+(6.250377950047412e-24*X1^6)+(4.479830024249993e-20*X1^5*X2^1)+(3.5080217836903e-21*X1^5*X3^1)+(7.815277518720973e-20*X1^5*X4^1)+(2.9130664938050783e-16*X1^4*X2^2)+(2.069069025774304e-17*X1^4*X2^1*X3^1)+(5.360594068049945e-16*X1^4*X2^1*X4^1)+(1.39207747427223e-18*X1^4*X3^2)+(-1.0984758979419977e-17*X1^4*X3^1*X4^1)+(1.2997900443802777e-15*X1^4*X4^2)+(1.5928988314259937e-12*X1^3*X2^3)+(1.0261839232344404e-13*X1^3*X2^2*X3^1)+(3.1325230824263425e-12*X1^3*X2^2*X4^1)+(3.854996903967643e-15*X1^3*X2^1*X3^2)+(-6.17259698811358e-14*X1^3*X2^1*X3^1*X4^1)+(8.861537316198485e-12*X1^3*X2^1*X4^2)+(-8.43180964850695e-16*X1^3*X3^3)+(-7.854835433075423e-14*X1^3*X3^2*X4^1)+(-5.296009313437631e-13*X1^3*X3^1*X4^2)+(4.123902700051196e-11*X1^3*X4^3)+(5.865468359022925e-09*X1^2*X2^4)+(3.4508557832635104e-10*X1^2*X2^3*X3^1)+(1.2451769210403e-08*X1^2*X2^3*X4^1)+(2.8753038649905284e-12*X1^2*X2^2*X3^2)+(-1.6048230335598456e-10*X1^2*X2^2*X3^1*X4^1)+(3.962607858818038e-08*X1^2*X2^2*X4^2)+(-1.4753091679108438e-11*X1^2*X2^1*X3^3)+(-3.464779380373624e-10*X1^2*X2^1*X3^2*X4^1)+(4.834169649046883e-11*X1^2*X2^1*X3^1*X4^2)+(1.6918960725418868e-07*X1^2*X2^1*X4^3)+(-5.448373227071249e-13*X1^2*X3^4)+(-3.06983773884878e-11*X1^2*X3^3*X4^1)+(-2.6624656449559346e-09*X1^2*X3^2*X4^2)+(4.8783165320968435e-08*X1^2*X3^1*X4^3)+(-1.669781243668843e-08*X1^2*X4^4)+(-2.0538572254419698e-09*X1^1*X2^5)+(7.167359174767668e-10*X1^1*X2^4*X3^1)+(1.4264636869339806e-09*X1^1*X2^4*X4^1)+(4.011426890072942e-08*X1^1*X2^3*X3^2)+(-6.309485595691426e-09*X1^1*X2^3*X3^1*X4^1)+(-8.647817780318046e-10*X1^1*X2^3*X4^2)+(-1.016539782889875e-07*X1^1*X2^2*X3^3)+(-7.985888020744378e-09*X1^1*X2^2*X3^2*X4^1)+(3.408590363970547e-09*X1^1*X2^2*X3^1*X4^2)+(1.5095617868565047e-10*X1^1*X2^2*X4^3)+(-9.451467164236815e-09*X1^1*X2^1*X3^4)+(-3.1658231229546957e-09*X1^1*X2^1*X3^3*X4^1)+(6.338114083921563e-10*X1^1*X2^1*X3^2*X4^2)+(-4.93298128601799e-10*X1^1*X2^1*X3^1*X4^3)+(-1.1066276163300579e-11*X1^1*X2^1*X4^4)+(3.2517717698448268e-09*X1^1*X3^5)+(1.145697526578659e-07*X1^1*X3^4*X4^1)+(-2.4554272194367244e-09*X1^1*X3^3*X4^2)+(3.098200574328434e-11*X1^1*X3^2*X4^3)+(2.180699337425708e-11*X1^1*X3^1*X4^4)+(3.3900368365648315e-13*X1^1*X4^5)+(-1.1167690883523286e-13*X2^6)+(1.3162018124425142e-12*X2^5*X3^1)+(1.2327432173022068e-13*X2^5*X4^1)+(-3.9201836536317264e-12*X2^4*X3^2)+(-6.684968069967646e-13*X2^4*X3^1*X4^1)+(-1.924707881800991e-14*X2^4*X4^2)+(-1.2776789890650092e-12*X2^3*X3^3)+(2.478350578157503e-12*X2^3*X3^2*X4^1)+(1.401237874391196e-13*X2^3*X3^1*X4^2)+(9.846729432741078e-17*X2^3*X4^3)+(4.30571946609162e-11*X2^2*X3^4)+(8.193641369998848e-14*X2^2*X3^3*X4^1)+(-7.112410966551267e-13*X2^2*X3^2*X4^2)+(-1.4713414464592725e-14*X2^2*X3^1*X4^3)+(2.693858282833379e-16*X2^2*X4^4)+(-1.1562815633990057e-10*X2^1*X3^5)+(-8.837264485648948e-12*X2^1*X3^4*X4^1)+(2.717595101483251e-13*X2^1*X3^3*X4^2)+(7.204394121533142e-14*X2^1*X3^2*X4^3)+(8.654315252639009e-16*X2^1*X3^1*X4^4)+(-3.394707874886998e-17*X2^1*X4^5)+(2.1687566029180645e-10*X3^6)+(-5.669328976501254e-12*X3^5*X4^1)+(4.4826406488978535e-13*X3^4*X4^2)+(-1.5048222560567438e-14*X3^3*X4^3)+(-2.5190701295873564e-15*X3^2*X4^4)+(-2.6723682690720037e-17*X3^1*X4^5)+(1.4404360594309269e-18*X4^6)\n",
      "bias:  [10.26536045]\n",
      "---------------------------------\n",
      "\n"
     ]
    }
   ],
   "source": [
    "# polynomial model\n",
    "for count, degree in enumerate([2, 3, 4, 5, 6]):\n",
    "    print(\"Degree \",degree)\n",
    "    model = make_pipeline(PolynomialFeatures(degree), LinearRegression())\n",
    "    model.fit(X_train, y_train)\n",
    "    y_pred = model.predict(X_test)\n",
    "    print(\"R2 score: \",r2_score(y_test, y_pred))\n",
    "#     print(\"coefficiets: \",model.steps[1][1].coef_)\n",
    "    equation = \"(\"\n",
    "    weight_index = 0\n",
    "    for row in model.steps[0][1].powers_:\n",
    "        equation += \"\"+str(model.steps[1][1].coef_[0][weight_index])+\"*\"\n",
    "        variable_index = 1\n",
    "        for variable in row:\n",
    "            if variable > 0:\n",
    "                equation += \"X\"+str(variable_index)+\"^\"+str(variable)+\"*\"\n",
    "            variable_index += 1\n",
    "        equation = equation[:-1]\n",
    "        equation += \")+(\"\n",
    "        weight_index += 1\n",
    "    print(\"equation: \",equation[:-2])\n",
    "    print(\"bias: \",model.steps[1][1].intercept_)\n",
    "    print(\"---------------------------------\")\n",
    "    print()"
   ]
  },
  {
   "cell_type": "markdown",
   "metadata": {},
   "source": [
    "Above results show that, degree 5 gives the best score. On 6, the scores goes down, which means that our model is starting to overfit the data.\n",
    "You can also try using k-fold CV with every degree and see which model performs the best."
   ]
  },
  {
   "cell_type": "code",
   "execution_count": null,
   "metadata": {
    "collapsed": true
   },
   "outputs": [],
   "source": []
  }
 ],
 "metadata": {
  "kernelspec": {
   "display_name": "Python 3",
   "language": "python",
   "name": "python3"
  },
  "language_info": {
   "codemirror_mode": {
    "name": "ipython",
    "version": 3
   },
   "file_extension": ".py",
   "mimetype": "text/x-python",
   "name": "python",
   "nbconvert_exporter": "python",
   "pygments_lexer": "ipython3",
   "version": "3.5.2"
  },
  "widgets": {
   "state": {},
   "version": "1.1.2"
  }
 },
 "nbformat": 4,
 "nbformat_minor": 2
}
